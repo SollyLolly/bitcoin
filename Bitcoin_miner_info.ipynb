{
  "nbformat": 4,
  "nbformat_minor": 0,
  "metadata": {
    "colab": {
      "name": "Bitcoin_miner_info.ipynb",
      "provenance": [],
      "authorship_tag": "ABX9TyMhwT6T8Vc/WdvDdsBCNRx8",
      "include_colab_link": true
    },
    "kernelspec": {
      "name": "python3",
      "display_name": "Python 3"
    },
    "language_info": {
      "name": "python"
    }
  },
  "cells": [
    {
      "cell_type": "markdown",
      "metadata": {
        "id": "view-in-github",
        "colab_type": "text"
      },
      "source": [
        "<a href=\"https://colab.research.google.com/github/SollyLolly/bitcoin/blob/main/Bitcoin_miner_info.ipynb\" target=\"_parent\"><img src=\"https://colab.research.google.com/assets/colab-badge.svg\" alt=\"Open In Colab\"/></a>"
      ]
    },
    {
      "cell_type": "markdown",
      "source": [
        "Importing our dataset\n"
      ],
      "metadata": {
        "id": "kP70WSQc2PdM"
      }
    },
    {
      "cell_type": "code",
      "execution_count": 38,
      "metadata": {
        "id": "iMP3e9Eh1n51",
        "colab": {
          "base_uri": "https://localhost:8080/"
        },
        "outputId": "bac08994-758e-4f9c-cc8a-1c32d5e8e774"
      },
      "outputs": [
        {
          "output_type": "stream",
          "name": "stdout",
          "text": [
            "(721800, 4)\n",
            "<class 'pandas.core.frame.DataFrame'>\n",
            "RangeIndex: 721800 entries, 0 to 721799\n",
            "Data columns (total 4 columns):\n",
            " #   Column        Non-Null Count   Dtype \n",
            "---  ------        --------------   ----- \n",
            " 0   block_height  721800 non-null  int64 \n",
            " 1   hash          721800 non-null  object\n",
            " 2   miner_name    719854 non-null  object\n",
            " 3   miner_hash    719854 non-null  object\n",
            "dtypes: int64(1), object(3)\n",
            "memory usage: 22.0+ MB\n",
            "None\n",
            "        block_height\n",
            "count  721800.000000\n",
            "mean   360899.500000\n",
            "std    208365.856488\n",
            "min         0.000000\n",
            "25%    180449.750000\n",
            "50%    360899.500000\n",
            "75%    541349.250000\n",
            "max    721799.000000\n",
            "   block_height                                                              hash miner_name                          miner_hash\n",
            "0             0  000000000019d6689c085ae165831e934ff763ae46a2a6c172b3f1b60a8ce26f    Unknown  1A1zP1eP5QGefi2DMPTfTL5SLmv7DivfNa\n",
            "1             1  00000000839a8e6886ab5951d76f411475428afc90947ee320161bbf18eb6048    Unknown  12c6DSiU4Rq3P4ZxziKxzrL5LmMBrzjrJX\n",
            "2             2  000000006a625f06636b8bb6ac7b960a8d03705d1ace08b1a19da3fdcc99ddbd    Unknown  1HLoD9E4SDFFPDiYfNYnkBLQ85Y51J3Zb1\n",
            "3             3  0000000082b5015589a3fdf2d4baff403e6f0be035a5d9742c1cae6295464449    Unknown  1FvzCLoTPGANNjWoUo6jUGuAG3wg1w4YjR\n",
            "4             4  000000004ebadb55ee9096c9a2f8880e09da59c0d68b1c228da88e48844a1485    Unknown  15ubicBBWFnvoZLT7GiU2qxjRaKJPdkDMG\n"
          ]
        }
      ],
      "source": [
        "import pandas as pd\n",
        "import numpy as np\n",
        "import seaborn as sns\n",
        "import matplotlib.pyplot as plt\n",
        "df_miner = pd.read_csv('https://raw.githubusercontent.com/SollyLolly/bitcoin/main/block_miner.csv')\n",
        "pd.set_option('display.max_columns', None, 'max_colwidth', None, 'display.expand_frame_repr', False) # print all columns in full, prevent line break\n",
        "\n",
        "print(df_miner.shape)\n",
        "print(df_miner.info())\n",
        "print(df_miner.describe())\n",
        "print(df_miner.head())"
      ]
    },
    {
      "cell_type": "markdown",
      "source": [
        "Checking for missing values"
      ],
      "metadata": {
        "id": "5GWFa5I02mv3"
      }
    },
    {
      "cell_type": "code",
      "source": [
        "df_miner.isnull().sum()"
      ],
      "metadata": {
        "id": "Yg-n_p7k2TZ0"
      },
      "execution_count": null,
      "outputs": []
    },
    {
      "cell_type": "code",
      "source": [
        "# Drop NANs\n",
        "df_miner.dropna(axis=0, inplace=True)"
      ],
      "metadata": {
        "id": "b4yA3I7h6g58"
      },
      "execution_count": null,
      "outputs": []
    },
    {
      "cell_type": "markdown",
      "source": [
        "Exploratory Data analysis"
      ],
      "metadata": {
        "id": "_jsKdCeU2lxg"
      }
    },
    {
      "cell_type": "code",
      "source": [
        "df_miner['miner_name'].value_counts()"
      ],
      "metadata": {
        "colab": {
          "base_uri": "https://localhost:8080/"
        },
        "id": "WDe5z2NL_bBD",
        "outputId": "e1ec055b-412f-4b49-96de-291da340b6fe"
      },
      "execution_count": 32,
      "outputs": [
        {
          "output_type": "execute_result",
          "data": {
            "text/plain": [
              "Unknown              369584\n",
              "F2Pool                68245\n",
              "AntPool               60210\n",
              "SlushPool             32692\n",
              "BTC.com               31060\n",
              "                      ...  \n",
              "EkanemBTC                 1\n",
              "Tricky's BTC Pool         1\n",
              "Bravo Mining              1\n",
              "RigPool                   1\n",
              "7pool                     1\n",
              "Name: miner_name, Length: 73, dtype: int64"
            ]
          },
          "metadata": {},
          "execution_count": 32
        }
      ]
    },
    {
      "cell_type": "code",
      "source": [
        "df_miner['miner_hash'].value_counts()"
      ],
      "metadata": {
        "colab": {
          "base_uri": "https://localhost:8080/"
        },
        "id": "I_GohyAdAT4O",
        "outputId": "05c3a3cc-5a6c-43c1-d596-655524860838"
      },
      "execution_count": 43,
      "outputs": [
        {
          "output_type": "execute_result",
          "data": {
            "text/plain": [
              "1KFHE7w8BhaENAswwryaoccDb6qcT6DbYY    68245\n",
              "14cZMQk89mRYQkDEj8Rn25AnGoBi5H6uer    26204\n",
              "18cBEMRxXHqzWWCxZNtU91F5sbUNKhL5PX    25627\n",
              "1CK6KHY6MHgYvmRQ4PAafKYDrg1ejbH1cE    23853\n",
              "1CjPR7Z5ZSyWk6WtXvSFgkptmpoi4UM9BC    23083\n",
              "                                      ...  \n",
              "13mZqiSgBCLWg6fwjgqes5dJBEcE4vfXbn        1\n",
              "18ZSNSr3ZZ9Yg7XVfWacHsQHqR5mcEa2BN        1\n",
              "1JPvuiq6TxWZdMAzKCFAsDeQjhBAaE9Fpq        1\n",
              "1VgtjdXjwD3JLqo1ELJmoCgC8ZFHM5cyk         1\n",
              "3EoqjNmeaaVvVDCPbVXxQQRH6UFpDUqpPg        1\n",
              "Name: miner_hash, Length: 204368, dtype: int64"
            ]
          },
          "metadata": {},
          "execution_count": 43
        }
      ]
    }
  ]
}